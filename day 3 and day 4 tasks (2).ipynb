{
 "cells": [
  {
   "cell_type": "code",
   "execution_count": 1,
   "id": "5297ce6a",
   "metadata": {},
   "outputs": [],
   "source": [
    "#adding white spaces to strings"
   ]
  },
  {
   "cell_type": "code",
   "execution_count": 2,
   "id": "7a684078",
   "metadata": {},
   "outputs": [
    {
     "name": "stdout",
     "output_type": "stream",
     "text": [
      "favorite_language: python c++ java swift c cobol\n"
     ]
    }
   ],
   "source": [
    "print(\"favorite_language: python c++ java swift c cobol\")"
   ]
  },
  {
   "cell_type": "code",
   "execution_count": 3,
   "id": "8634b68f",
   "metadata": {},
   "outputs": [
    {
     "name": "stdout",
     "output_type": "stream",
     "text": [
      "favorite_language: \n",
      "python\n",
      "c++\n",
      "java\n",
      "swift\n",
      "c\n",
      "cobol\n"
     ]
    }
   ],
   "source": [
    "print(\"favorite_language: \\npython\\nc++\\njava\\nswift\\nc\\ncobol\")"
   ]
  },
  {
   "cell_type": "code",
   "execution_count": 4,
   "id": "48656cbc",
   "metadata": {},
   "outputs": [
    {
     "name": "stdout",
     "output_type": "stream",
     "text": [
      "favorite_language: \n",
      "\tpython\n",
      "\tc++\n",
      "\tjava\n",
      "\tswift\n",
      "\tc\n",
      "\tcobol\n"
     ]
    }
   ],
   "source": [
    "print(\"favorite_language: \\n\\tpython\\n\\tc++\\n\\tjava\\n\\tswift\\n\\tc\\n\\tcobol\")"
   ]
  },
  {
   "cell_type": "code",
   "execution_count": 5,
   "id": "f3ed9e63",
   "metadata": {},
   "outputs": [],
   "source": [
    "name1='python'"
   ]
  },
  {
   "cell_type": "code",
   "execution_count": 6,
   "id": "0d64222f",
   "metadata": {},
   "outputs": [
    {
     "name": "stdout",
     "output_type": "stream",
     "text": [
      "python\n"
     ]
    }
   ],
   "source": [
    "print(name1)"
   ]
  },
  {
   "cell_type": "code",
   "execution_count": 7,
   "id": "5766ebab",
   "metadata": {},
   "outputs": [],
   "source": [
    "name2=' python'"
   ]
  },
  {
   "cell_type": "code",
   "execution_count": 8,
   "id": "79775e80",
   "metadata": {},
   "outputs": [
    {
     "name": "stdout",
     "output_type": "stream",
     "text": [
      " python\n"
     ]
    }
   ],
   "source": [
    "print(name2)"
   ]
  },
  {
   "cell_type": "code",
   "execution_count": 9,
   "id": "f3f9394f",
   "metadata": {},
   "outputs": [
    {
     "data": {
      "text/plain": [
       "'python'"
      ]
     },
     "execution_count": 9,
     "metadata": {},
     "output_type": "execute_result"
    }
   ],
   "source": [
    "name2.lstrip()"
   ]
  },
  {
   "cell_type": "code",
   "execution_count": 10,
   "id": "29c7b614",
   "metadata": {},
   "outputs": [],
   "source": [
    "name3='python '"
   ]
  },
  {
   "cell_type": "code",
   "execution_count": 11,
   "id": "e438fd62",
   "metadata": {},
   "outputs": [
    {
     "name": "stdout",
     "output_type": "stream",
     "text": [
      "python \n"
     ]
    }
   ],
   "source": [
    "print(name3)"
   ]
  },
  {
   "cell_type": "code",
   "execution_count": 12,
   "id": "4a51d5ab",
   "metadata": {},
   "outputs": [
    {
     "data": {
      "text/plain": [
       "'python'"
      ]
     },
     "execution_count": 12,
     "metadata": {},
     "output_type": "execute_result"
    }
   ],
   "source": [
    "name3.rstrip()"
   ]
  },
  {
   "cell_type": "code",
   "execution_count": 13,
   "id": "7adaa022",
   "metadata": {},
   "outputs": [],
   "source": [
    "name4=' python '"
   ]
  },
  {
   "cell_type": "code",
   "execution_count": 14,
   "id": "e59b9373",
   "metadata": {},
   "outputs": [
    {
     "name": "stdout",
     "output_type": "stream",
     "text": [
      " python \n"
     ]
    }
   ],
   "source": [
    "print(name4)"
   ]
  },
  {
   "cell_type": "markdown",
   "id": "83324678",
   "metadata": {},
   "source": []
  },
  {
   "cell_type": "code",
   "execution_count": 15,
   "id": "89517518",
   "metadata": {},
   "outputs": [
    {
     "data": {
      "text/plain": [
       "'python'"
      ]
     },
     "execution_count": 15,
     "metadata": {},
     "output_type": "execute_result"
    }
   ],
   "source": [
    "name4.strip()"
   ]
  },
  {
   "cell_type": "code",
   "execution_count": 16,
   "id": "d35110bb",
   "metadata": {},
   "outputs": [],
   "source": [
    "#list data types"
   ]
  },
  {
   "cell_type": "code",
   "execution_count": 17,
   "id": "fb59e4b2",
   "metadata": {},
   "outputs": [],
   "source": [
    "students=['anil', 'kumar', 'sreeja', 'keerti', 'rafi', 'simran']"
   ]
  },
  {
   "cell_type": "code",
   "execution_count": 18,
   "id": "ffaa8175",
   "metadata": {},
   "outputs": [
    {
     "name": "stdout",
     "output_type": "stream",
     "text": [
      "['anil', 'kumar', 'sreeja', 'keerti', 'rafi', 'simran']\n"
     ]
    }
   ],
   "source": [
    "print(students)"
   ]
  },
  {
   "cell_type": "code",
   "execution_count": 19,
   "id": "bcd560f2",
   "metadata": {},
   "outputs": [
    {
     "name": "stdout",
     "output_type": "stream",
     "text": [
      "kumar\n"
     ]
    }
   ],
   "source": [
    "print(students[1])"
   ]
  },
  {
   "cell_type": "code",
   "execution_count": 20,
   "id": "88f794b1",
   "metadata": {},
   "outputs": [
    {
     "name": "stdout",
     "output_type": "stream",
     "text": [
      "rafi\n"
     ]
    }
   ],
   "source": [
    "print(students[4])"
   ]
  },
  {
   "cell_type": "code",
   "execution_count": 21,
   "id": "e22709e9",
   "metadata": {},
   "outputs": [],
   "source": [
    "#to add new element to the list\n"
   ]
  },
  {
   "cell_type": "code",
   "execution_count": 22,
   "id": "c38a8356",
   "metadata": {},
   "outputs": [],
   "source": [
    " students.append('naveen')"
   ]
  },
  {
   "cell_type": "code",
   "execution_count": 23,
   "id": "e81d6e9f",
   "metadata": {},
   "outputs": [
    {
     "name": "stdout",
     "output_type": "stream",
     "text": [
      "['anil', 'kumar', 'sreeja', 'keerti', 'rafi', 'simran', 'naveen']\n"
     ]
    }
   ],
   "source": [
    "print(students)"
   ]
  },
  {
   "cell_type": "code",
   "execution_count": 24,
   "id": "f37731ae",
   "metadata": {},
   "outputs": [],
   "source": [
    "#to add at particular index"
   ]
  },
  {
   "cell_type": "code",
   "execution_count": 25,
   "id": "b07c2240",
   "metadata": {},
   "outputs": [],
   "source": [
    "students.insert(2,'pallavi')"
   ]
  },
  {
   "cell_type": "code",
   "execution_count": 26,
   "id": "49985c03",
   "metadata": {},
   "outputs": [
    {
     "name": "stdout",
     "output_type": "stream",
     "text": [
      "['anil', 'kumar', 'pallavi', 'sreeja', 'keerti', 'rafi', 'simran', 'naveen']\n"
     ]
    }
   ],
   "source": [
    "print(students)"
   ]
  },
  {
   "cell_type": "code",
   "execution_count": 27,
   "id": "70c09af9",
   "metadata": {},
   "outputs": [
    {
     "name": "stdout",
     "output_type": "stream",
     "text": [
      "pallavi\n"
     ]
    }
   ],
   "source": [
    "print(students[2])\n",
    "            "
   ]
  },
  {
   "cell_type": "code",
   "execution_count": 28,
   "id": "1838cc48",
   "metadata": {},
   "outputs": [],
   "source": [
    "#to modify names: sreeja to swathi"
   ]
  },
  {
   "cell_type": "code",
   "execution_count": 29,
   "id": "daa9d012",
   "metadata": {},
   "outputs": [],
   "source": [
    "students[3]='swathi'"
   ]
  },
  {
   "cell_type": "code",
   "execution_count": 30,
   "id": "ef5ae90d",
   "metadata": {},
   "outputs": [
    {
     "name": "stdout",
     "output_type": "stream",
     "text": [
      "['anil', 'kumar', 'pallavi', 'swathi', 'keerti', 'rafi', 'simran', 'naveen']\n"
     ]
    }
   ],
   "source": [
    "print(students)"
   ]
  },
  {
   "cell_type": "code",
   "execution_count": 31,
   "id": "9ae0c683",
   "metadata": {},
   "outputs": [],
   "source": [
    "# to delete name from the list"
   ]
  },
  {
   "cell_type": "code",
   "execution_count": 32,
   "id": "2b3416c3",
   "metadata": {},
   "outputs": [],
   "source": [
    "del students[1]"
   ]
  },
  {
   "cell_type": "code",
   "execution_count": 33,
   "id": "070d6abd",
   "metadata": {},
   "outputs": [
    {
     "name": "stdout",
     "output_type": "stream",
     "text": [
      "['anil', 'pallavi', 'swathi', 'keerti', 'rafi', 'simran', 'naveen']\n"
     ]
    }
   ],
   "source": [
    "print(students)"
   ]
  },
  {
   "cell_type": "code",
   "execution_count": null,
   "id": "00fb278b",
   "metadata": {},
   "outputs": [],
   "source": []
  }
 ],
 "metadata": {
  "kernelspec": {
   "display_name": "Python 3 (ipykernel)",
   "language": "python",
   "name": "python3"
  },
  "language_info": {
   "codemirror_mode": {
    "name": "ipython",
    "version": 3
   },
   "file_extension": ".py",
   "mimetype": "text/x-python",
   "name": "python",
   "nbconvert_exporter": "python",
   "pygments_lexer": "ipython3",
   "version": "3.9.7"
  }
 },
 "nbformat": 4,
 "nbformat_minor": 5
}
